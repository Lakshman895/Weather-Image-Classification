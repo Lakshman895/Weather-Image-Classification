{
 "cells": [
  {
   "cell_type": "code",
   "execution_count": 1,
   "metadata": {},
   "outputs": [],
   "source": [
    "import os\n",
    "os.chdir('../')"
   ]
  },
  {
   "cell_type": "code",
   "execution_count": 2,
   "metadata": {},
   "outputs": [],
   "source": [
    "import pandas as pd\n",
    "import zipfile\n",
    "\n",
    "zip_dataset_path = 'data/dataset.zip'\n",
    "\n",
    "with zipfile.ZipFile(zip_dataset_path, 'r') as file:\n",
    "    file.extractall('data/')"
   ]
  },
  {
   "cell_type": "code",
   "execution_count": 3,
   "metadata": {},
   "outputs": [
    {
     "data": {
      "text/plain": [
       "['dew',\n",
       " 'fogsmog',\n",
       " 'frost',\n",
       " 'glaze',\n",
       " 'hail',\n",
       " 'lightning',\n",
       " 'rain',\n",
       " 'rainbow',\n",
       " 'rime',\n",
       " 'sandstorm',\n",
       " 'snow']"
      ]
     },
     "execution_count": 3,
     "metadata": {},
     "output_type": "execute_result"
    }
   ],
   "source": [
    "os.listdir('data/data/dataset')"
   ]
  },
  {
   "cell_type": "code",
   "execution_count": 7,
   "metadata": {},
   "outputs": [
    {
     "data": {
      "text/html": [
       "<div>\n",
       "<style scoped>\n",
       "    .dataframe tbody tr th:only-of-type {\n",
       "        vertical-align: middle;\n",
       "    }\n",
       "\n",
       "    .dataframe tbody tr th {\n",
       "        vertical-align: top;\n",
       "    }\n",
       "\n",
       "    .dataframe thead th {\n",
       "        text-align: right;\n",
       "    }\n",
       "</style>\n",
       "<table border=\"1\" class=\"dataframe\">\n",
       "  <thead>\n",
       "    <tr style=\"text-align: right;\">\n",
       "      <th></th>\n",
       "      <th>Image</th>\n",
       "      <th>Category</th>\n",
       "    </tr>\n",
       "  </thead>\n",
       "  <tbody>\n",
       "    <tr>\n",
       "      <th>0</th>\n",
       "      <td>data/data/dataset\\dew\\2208.jpg</td>\n",
       "      <td>dew</td>\n",
       "    </tr>\n",
       "    <tr>\n",
       "      <th>1</th>\n",
       "      <td>data/data/dataset\\dew\\2209.jpg</td>\n",
       "      <td>dew</td>\n",
       "    </tr>\n",
       "    <tr>\n",
       "      <th>2</th>\n",
       "      <td>data/data/dataset\\dew\\2210.jpg</td>\n",
       "      <td>dew</td>\n",
       "    </tr>\n",
       "    <tr>\n",
       "      <th>3</th>\n",
       "      <td>data/data/dataset\\dew\\2211.jpg</td>\n",
       "      <td>dew</td>\n",
       "    </tr>\n",
       "    <tr>\n",
       "      <th>4</th>\n",
       "      <td>data/data/dataset\\dew\\2212.jpg</td>\n",
       "      <td>dew</td>\n",
       "    </tr>\n",
       "  </tbody>\n",
       "</table>\n",
       "</div>"
      ],
      "text/plain": [
       "                            Image Category\n",
       "0  data/data/dataset\\dew\\2208.jpg      dew\n",
       "1  data/data/dataset\\dew\\2209.jpg      dew\n",
       "2  data/data/dataset\\dew\\2210.jpg      dew\n",
       "3  data/data/dataset\\dew\\2211.jpg      dew\n",
       "4  data/data/dataset\\dew\\2212.jpg      dew"
      ]
     },
     "execution_count": 7,
     "metadata": {},
     "output_type": "execute_result"
    }
   ],
   "source": [
    "def image_dataset(parent_directory):\n",
    "    data = []\n",
    "    for category in os.listdir(parent_directory):\n",
    "        category_path = os.path.join(parent_directory, category)\n",
    "        if os.path.isdir(category_path):\n",
    "            for image_path in os.listdir(category_path):\n",
    "                if image_path.lower().endswith('.jpg'):\n",
    "                    image_link = os.path.join(category_path, image_path)\n",
    "                    \n",
    "                    data.append({\n",
    "                        'Image': image_link,\n",
    "                        'Category': category\n",
    "                    })\n",
    "        else:\n",
    "            print(f'Warning: {category_path} is not a directory.')\n",
    "            \n",
    "    df = pd.DataFrame(data)\n",
    "    return df\n",
    "\n",
    "df = image_dataset('data/data/dataset')\n",
    "df.to_csv('data/data/image_dataset.csv', index=False)\n",
    "df.head()"
   ]
  },
  {
   "cell_type": "code",
   "execution_count": 8,
   "metadata": {},
   "outputs": [
    {
     "data": {
      "text/plain": [
       "array(['dew', 'fogsmog', 'frost', 'glaze', 'hail', 'lightning', 'rain',\n",
       "       'rainbow', 'rime', 'sandstorm', 'snow'], dtype=object)"
      ]
     },
     "execution_count": 8,
     "metadata": {},
     "output_type": "execute_result"
    }
   ],
   "source": [
    "df['Category'].unique()"
   ]
  },
  {
   "cell_type": "code",
   "execution_count": 9,
   "metadata": {},
   "outputs": [
    {
     "data": {
      "text/plain": [
       "Category\n",
       "rime         1160\n",
       "fogsmog       851\n",
       "dew           698\n",
       "sandstorm     692\n",
       "glaze         639\n",
       "snow          621\n",
       "hail          591\n",
       "rain          526\n",
       "frost         475\n",
       "lightning     377\n",
       "rainbow       232\n",
       "Name: count, dtype: int64"
      ]
     },
     "execution_count": 9,
     "metadata": {},
     "output_type": "execute_result"
    }
   ],
   "source": [
    "df['Category'].value_counts()"
   ]
  },
  {
   "cell_type": "code",
   "execution_count": 20,
   "metadata": {},
   "outputs": [],
   "source": [
    "import plotly.io as pio\n",
    "pio.renderers.default = \"browser\"  # Opens the plot in your default web browser\n",
    "\n",
    "\n",
    "import seaborn as sns\n",
    "import matplotlib.pyplot as plt\n",
    "import plotly.express as px\n",
    "\n",
    "fig = px.bar(df, x='Category', color='Category', title='Count Plot')\n",
    "fig.show()"
   ]
  },
  {
   "cell_type": "code",
   "execution_count": 21,
   "metadata": {},
   "outputs": [],
   "source": [
    "fig = px.pie(df, names='Category', title='Pie Chart')\n",
    "fig.update_traces(textinfo='percent+label')\n",
    "fig.show()"
   ]
  },
  {
   "cell_type": "code",
   "execution_count": null,
   "metadata": {},
   "outputs": [],
   "source": []
  }
 ],
 "metadata": {
  "kernelspec": {
   "display_name": "venv",
   "language": "python",
   "name": "python3"
  },
  "language_info": {
   "codemirror_mode": {
    "name": "ipython",
    "version": 3
   },
   "file_extension": ".py",
   "mimetype": "text/x-python",
   "name": "python",
   "nbconvert_exporter": "python",
   "pygments_lexer": "ipython3",
   "version": "3.8.20"
  }
 },
 "nbformat": 4,
 "nbformat_minor": 2
}
